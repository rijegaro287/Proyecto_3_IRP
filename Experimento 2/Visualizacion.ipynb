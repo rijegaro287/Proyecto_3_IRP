{
 "cells": [
  {
   "cell_type": "code",
   "execution_count": 1,
   "id": "c9186f2b",
   "metadata": {},
   "outputs": [],
   "source": [
    "import sys\n",
    "sys.path.append(\"..\")\n",
    "\n",
    "import pandas as pd\n",
    "import matplotlib.pyplot as plt\n",
    "\n",
    "from datasets.custom_dataset import CustomDataset\n",
    "from sklearn.model_selection import train_test_split\n",
    "\n",
    "import torch\n",
    "from torch import nn\n",
    "from torch.utils.data import DataLoader\n",
    "from torchvision.transforms import Compose, Resize, ToPILImage, ToTensor, Normalize\n",
    "\n",
    "# import tensorflow as tf\n",
    "import numpy as np\n",
    "import matplotlib.pyplot as plt\n",
    "from sklearn.manifold import TSNE\n",
    "# from tensorflow.keras.applications.vgg16 import VGG16\n",
    "# from tensorflow.keras.preprocessing import image\n",
    "# from tensorflow.keras.applications.vgg16 import preprocess_input\n"
   ]
  },
  {
   "cell_type": "code",
   "execution_count": 2,
   "id": "d014baa4",
   "metadata": {},
   "outputs": [
    {
     "data": {
      "text/html": [
       "<div>\n",
       "<style scoped>\n",
       "    .dataframe tbody tr th:only-of-type {\n",
       "        vertical-align: middle;\n",
       "    }\n",
       "\n",
       "    .dataframe tbody tr th {\n",
       "        vertical-align: top;\n",
       "    }\n",
       "\n",
       "    .dataframe thead th {\n",
       "        text-align: right;\n",
       "    }\n",
       "</style>\n",
       "<table border=\"1\" class=\"dataframe\">\n",
       "  <thead>\n",
       "    <tr style=\"text-align: right;\">\n",
       "      <th></th>\n",
       "      <th>file_name</th>\n",
       "      <th>label</th>\n",
       "    </tr>\n",
       "  </thead>\n",
       "  <tbody>\n",
       "    <tr>\n",
       "      <th>41375</th>\n",
       "      <td>Soybean_healthy_41375.jpg</td>\n",
       "      <td>18</td>\n",
       "    </tr>\n",
       "    <tr>\n",
       "      <th>35765</th>\n",
       "      <td>Potato_diseased_35765.jpg</td>\n",
       "      <td>17</td>\n",
       "    </tr>\n",
       "    <tr>\n",
       "      <th>9361</th>\n",
       "      <td>Tomato_diseased_9361.jpg</td>\n",
       "      <td>4</td>\n",
       "    </tr>\n",
       "    <tr>\n",
       "      <th>33151</th>\n",
       "      <td>Corn_diseased_33151.jpg</td>\n",
       "      <td>15</td>\n",
       "    </tr>\n",
       "    <tr>\n",
       "      <th>47815</th>\n",
       "      <td>Tomato_healthy_47815.jpg</td>\n",
       "      <td>21</td>\n",
       "    </tr>\n",
       "  </tbody>\n",
       "</table>\n",
       "</div>"
      ],
      "text/plain": [
       "                       file_name  label\n",
       "41375  Soybean_healthy_41375.jpg     18\n",
       "35765  Potato_diseased_35765.jpg     17\n",
       "9361    Tomato_diseased_9361.jpg      4\n",
       "33151    Corn_diseased_33151.jpg     15\n",
       "47815   Tomato_healthy_47815.jpg     21"
      ]
     },
     "execution_count": 2,
     "metadata": {},
     "output_type": "execute_result"
    }
   ],
   "source": [
    "dataset_path = '../datasets/dataset.csv'\n",
    "images_path = '../datasets/dataset_images'\n",
    "\n",
    "dataset = pd.read_csv(dataset_path)\n",
    "dataset_file_names = dataset['file_name']\n",
    "dataset_labels = dataset['label']\n",
    "\n",
    "dataset.sample(5).head()"
   ]
  },
  {
   "attachments": {},
   "cell_type": "markdown",
   "id": "ad38a270",
   "metadata": {},
   "source": [
    "## Ejemplo con una muestra y un modelo random"
   ]
  },
  {
   "cell_type": "code",
   "execution_count": 3,
   "id": "4312be0b",
   "metadata": {},
   "outputs": [
    {
     "ename": "NameError",
     "evalue": "name 'VGG16' is not defined",
     "output_type": "error",
     "traceback": [
      "\u001b[0;31m---------------------------------------------------------------------------\u001b[0m",
      "\u001b[0;31mNameError\u001b[0m                                 Traceback (most recent call last)",
      "Cell \u001b[0;32mIn[3], line 7\u001b[0m\n\u001b[1;32m      4\u001b[0m sample_image_file_names \u001b[39m=\u001b[39m dataset_file_names[sample_indices]\n\u001b[1;32m      6\u001b[0m \u001b[39m# Cargar el modelo pre-entrenado\u001b[39;00m\n\u001b[0;32m----> 7\u001b[0m model \u001b[39m=\u001b[39m VGG16(weights\u001b[39m=\u001b[39m\u001b[39m'\u001b[39m\u001b[39mimagenet\u001b[39m\u001b[39m'\u001b[39m, include_top\u001b[39m=\u001b[39m\u001b[39mFalse\u001b[39;00m, pooling\u001b[39m=\u001b[39m\u001b[39m'\u001b[39m\u001b[39mavg\u001b[39m\u001b[39m'\u001b[39m)\n\u001b[1;32m      9\u001b[0m \u001b[39m# Obtener características de las imágenes\u001b[39;00m\n\u001b[1;32m     10\u001b[0m image_features \u001b[39m=\u001b[39m []\n",
      "\u001b[0;31mNameError\u001b[0m: name 'VGG16' is not defined"
     ]
    }
   ],
   "source": [
    "# Seleccionar una muestra pequeña de imágenes\n",
    "num_samples = 100\n",
    "sample_indices = np.random.choice(len(dataset_file_names), num_samples, replace=False)\n",
    "sample_image_file_names = dataset_file_names[sample_indices]\n",
    "\n",
    "# Cargar el modelo pre-entrenado\n",
    "model = VGG16(weights='imagenet', include_top=False, pooling='avg')\n",
    "\n",
    "# Obtener características de las imágenes\n",
    "image_features = []\n",
    "for file_name in sample_image_file_names:\n",
    "    image_path = images_path + '/' + file_name\n",
    "    img = image.load_img(image_path, target_size=(224, 224))\n",
    "    img = image.img_to_array(img)\n",
    "    img = preprocess_input(img)\n",
    "    features = model.predict(np.expand_dims(img, axis=0))\n",
    "    image_features.append(features.flatten())\n",
    "\n",
    "image_features = np.array(image_features)\n",
    "\n",
    "# Aplicar t-SNE para reducir la dimensionalidad a 2D\n",
    "tsne = TSNE(n_components=2, random_state=42)\n",
    "latent_tsne = tsne.fit_transform(image_features)\n",
    "\n",
    "# Obtener etiquetas\n",
    "labels = dataset['label']\n",
    "sample_labels = labels[sample_indices]\n",
    "\n",
    "# Obtener clases únicas\n",
    "unique_labels = np.unique(sample_labels)\n",
    "num_classes = len(unique_labels)\n",
    "\n",
    "# Generar un color para cada clase\n",
    "color_map = plt.get_cmap('tab20')\n",
    "\n",
    "# Visualizar los vectores latentes en un gráfico 2D con colores por clase\n",
    "plt.figure(figsize=(10, 10))\n",
    "\n",
    "for i, label in enumerate(unique_labels):\n",
    "    class_indices = np.where(sample_labels == label)[0]\n",
    "    plt.scatter(latent_tsne[class_indices, 0], latent_tsne[class_indices, 1], color=color_map(i / num_classes), label=label)\n",
    "\n",
    "plt.title('Vectores Latentes (t-SNE)')\n",
    "plt.xlabel('Dimensión 1')\n",
    "plt.ylabel('Dimensión 2')\n",
    "plt.legend()\n",
    "plt.show()\n"
   ]
  },
  {
   "attachments": {},
   "cell_type": "markdown",
   "id": "29f765b5",
   "metadata": {},
   "source": [
    "## Para el modelo real (Cambiar model)"
   ]
  },
  {
   "cell_type": "code",
   "execution_count": null,
   "id": "e2c0d802",
   "metadata": {},
   "outputs": [
    {
     "ename": "NameError",
     "evalue": "name 'VGG16' is not defined",
     "output_type": "error",
     "traceback": [
      "\u001b[0;31m---------------------------------------------------------------------------\u001b[0m",
      "\u001b[0;31mNameError\u001b[0m                                 Traceback (most recent call last)",
      "Cell \u001b[0;32mIn[3], line 2\u001b[0m\n\u001b[1;32m      1\u001b[0m \u001b[39m# Cargar el modelo pre-entrenado\u001b[39;00m\n\u001b[0;32m----> 2\u001b[0m model \u001b[39m=\u001b[39m VGG16(weights\u001b[39m=\u001b[39m\u001b[39m'\u001b[39m\u001b[39mimagenet\u001b[39m\u001b[39m'\u001b[39m, include_top\u001b[39m=\u001b[39m\u001b[39mFalse\u001b[39;00m, pooling\u001b[39m=\u001b[39m\u001b[39m'\u001b[39m\u001b[39mavg\u001b[39m\u001b[39m'\u001b[39m)\n\u001b[1;32m      4\u001b[0m \u001b[39m# Obtener características de todas las imágenes\u001b[39;00m\n\u001b[1;32m      5\u001b[0m image_features \u001b[39m=\u001b[39m []\n",
      "\u001b[0;31mNameError\u001b[0m: name 'VGG16' is not defined"
     ]
    }
   ],
   "source": [
    "# Cargar el modelo pre-entrenado\n",
    "model = VGG16(weights='imagenet', include_top=False, pooling='avg')\n",
    "\n",
    "# Obtener características de todas las imágenes\n",
    "image_features = []\n",
    "for file_name in dataset_file_names:\n",
    "    image_path = images_path + '/' + file_name\n",
    "    img = image.load_img(image_path, target_size=(224, 224))\n",
    "    img = image.img_to_array(img)\n",
    "    img = preprocess_input(img)\n",
    "    features = model.predict(np.expand_dims(img, axis=0))\n",
    "    image_features.append(features.flatten())\n",
    "\n",
    "image_features = np.array(image_features)\n",
    "\n",
    "# Aplicar t-SNE para reducir la dimensionalidad a 2D\n",
    "tsne = TSNE(n_components=2, random_state=42)\n",
    "latent_tsne = tsne.fit_transform(image_features)\n",
    "\n",
    "# Obtener etiquetas\n",
    "labels = dataset['label']\n",
    "\n",
    "# Obtener clases únicas\n",
    "unique_labels = np.unique(labels)\n",
    "num_classes = len(unique_labels)\n",
    "\n",
    "# Generar un color para cada clase\n",
    "color_map = plt.get_cmap('tab20')\n",
    "\n",
    "# Visualizar los vectores latentes en un gráfico 2D con colores por clase\n",
    "plt.figure(figsize=(10, 10))\n",
    "\n",
    "for i, label in enumerate(unique_labels):\n",
    "    class_indices = np.where(labels == label)[0]\n",
    "    plt.scatter(latent_tsne[class_indices, 0], latent_tsne[class_indices, 1], color=color_map(i / num_classes), label=label)\n",
    "\n",
    "plt.title('Vectores Latentes (t-SNE)')\n",
    "plt.xlabel('Dimensión 1')\n",
    "plt.ylabel('Dimensión 2')\n",
    "plt.legend()\n",
    "plt.show()"
   ]
  }
 ],
 "metadata": {
  "kernelspec": {
   "display_name": "Python 3 (ipykernel)",
   "language": "python",
   "name": "python3"
  },
  "language_info": {
   "codemirror_mode": {
    "name": "ipython",
    "version": 3
   },
   "file_extension": ".py",
   "mimetype": "text/x-python",
   "name": "python",
   "nbconvert_exporter": "python",
   "pygments_lexer": "ipython3",
   "version": "3.11.3"
  }
 },
 "nbformat": 4,
 "nbformat_minor": 5
}
